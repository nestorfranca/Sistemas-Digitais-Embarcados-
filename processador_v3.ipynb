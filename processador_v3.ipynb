{
  "nbformat": 4,
  "nbformat_minor": 0,
  "metadata": {
    "colab": {
      "provenance": [],
      "include_colab_link": true
    },
    "kernelspec": {
      "name": "python3",
      "display_name": "Python 3"
    },
    "language_info": {
      "name": "python"
    }
  },
  "cells": [
    {
      "cell_type": "markdown",
      "metadata": {
        "id": "view-in-github",
        "colab_type": "text"
      },
      "source": [
        "<a href=\"https://colab.research.google.com/github/nestorfranca/Sistemas-Digitais-Embarcados-/blob/main/processador_v3.ipynb\" target=\"_parent\"><img src=\"https://colab.research.google.com/assets/colab-badge.svg\" alt=\"Open In Colab\"/></a>"
      ]
    },
    {
      "cell_type": "code",
      "execution_count": null,
      "metadata": {
        "id": "YHmTwCOau73P"
      },
      "outputs": [],
      "source": [
        "# biblioteca do verilog\n",
        "%%bash\n",
        "sudo apt-get update\n",
        "sudo apt-get install verilog iverilog gtkwave"
      ]
    },
    {
      "cell_type": "code",
      "source": [
        "!pip install git+https://github.com/lesc-ufv/cad4u >& /dev/null\n",
        "!git clone https://github.com/lesc-ufv/cad4u >& /dev/null\n",
        "%load_ext plugin"
      ],
      "metadata": {
        "id": "8nK92kUXvCCg"
      },
      "execution_count": null,
      "outputs": []
    },
    {
      "cell_type": "markdown",
      "source": [
        "# Projeto de processador (versão final)\n",
        "\n",
        "### Diagrama Geral\n",
        "\n",
        "Author: Nestor França\n",
        "\n",
        "<p align=\"center\">\n",
        "  <img src=\"https://raw.githubusercontent.com/Gustavo-A-Mendes/sistemas-digitais-embarcados/refs/heads/main/projeto-unidade-02/img/diagrama-geral.png\" alt=\"Diagrama_MIPS_16.png\">\n",
        "</p>\n",
        "\n"
      ],
      "metadata": {
        "id": "Rnw8kQgXvAQw"
      }
    },
    {
      "cell_type": "markdown",
      "source": [
        "##Diagrama para Funções do tipo_R\n",
        "\n",
        "<p align=\"center\">\n",
        "  <img src=\"https://raw.githubusercontent.com/Gustavo-A-Mendes/sistemas-digitais-embarcados/refs/heads/main/projeto-unidade-02/img/diagrama-instrucao-tipo-R.png\" alt=\"Diagrama_Instrução_tipo_R.png\">\n",
        "</p>\n"
      ],
      "metadata": {
        "id": "4-ioRilfzSBN"
      }
    },
    {
      "cell_type": "markdown",
      "source": [
        "##Diagrama para Funções do tipo_I (sw)\n",
        "\n",
        "<p align=\"center\">\n",
        "  <img src=\"https://raw.githubusercontent.com/Gustavo-A-Mendes/sistemas-digitais-embarcados/refs/heads/main/projeto-unidade-02/img/diagrama-instrucao-tipo-I-sw.png\" alt=\"Diagrama_Instrução_tipo_R.png\">\n",
        "</p>"
      ],
      "metadata": {
        "id": "hBfcff2fzvqc"
      }
    },
    {
      "cell_type": "markdown",
      "source": [
        "##Diagrama para Funções do tipo_I (lw)\n",
        "\n",
        "<p align=\"center\">\n",
        "  <img src=\"https://raw.githubusercontent.com/Gustavo-A-Mendes/sistemas-digitais-embarcados/refs/heads/main/projeto-unidade-02/img/diagrama-instrucao-tipo-I-lw.png\" alt=\"Diagrama_Instrução_tipo_R.png\">\n",
        "</p>"
      ],
      "metadata": {
        "id": "nYmIvPTgZ45E"
      }
    },
    {
      "cell_type": "markdown",
      "source": [
        "##Diagrama para Funções do tipo_I (beq)\n",
        "\n",
        "<p align=\"center\">\n",
        "  <img src=\"https://raw.githubusercontent.com/Gustavo-A-Mendes/sistemas-digitais-embarcados/refs/heads/main/projeto-unidade-02/img/diagrama-instrucao-tipo-I-beq.png\" alt=\"Diagrama_Instrução_tipo_R.png\">\n",
        "</p>"
      ],
      "metadata": {
        "id": "muXnMhbfZ8wO"
      }
    },
    {
      "cell_type": "markdown",
      "source": [
        "##Diagrama para Funções do tipo_J\n",
        "\n",
        "##Diagrama para Funções do tipo_J (jmp)\n",
        "\n",
        "<p align=\"center\">\n",
        "  <img src=\"https://raw.githubusercontent.com/Gustavo-A-Mendes/sistemas-digitais-embarcados/refs/heads/main/projeto-unidade-02/img/diagrama-instrucao-tipo-J.png\" alt=\"Diagrama_Instrução_tipo_R.png\">\n",
        "</p>"
      ],
      "metadata": {
        "id": "yRcn5WNkzyDa"
      }
    },
    {
      "cell_type": "markdown",
      "source": [
        "####Instruções"
      ],
      "metadata": {
        "id": "ujengQaJccSe"
      }
    },
    {
      "cell_type": "markdown",
      "source": [
        "<p align=\"center\">\n",
        "  <img src=\"https://raw.githubusercontent.com/Gustavo-A-Mendes/sistemas-digitais-embarcados/refs/heads/main/projeto-unidade-02/img/Instru%C3%A7%C3%B5es.png\" alt=\"Diagrama_Instrução_tipo_R.png\">\n",
        "</p>"
      ],
      "metadata": {
        "id": "EyxduqfPep3s"
      }
    },
    {
      "cell_type": "markdown",
      "source": [
        "**lw rs, Offset(rt);**\n",
        "\n",
        "\n",
        "*   3 bits ( opcode ) = 001\n",
        "*   3 bits ( registrador fonte ) = 000\n",
        "*   3 bits ( registrador destino ) = 001\n",
        "*   7 bits ( imediato ) = 0000011\n",
        "\n",
        "\n",
        "**lw rs, Offset(rt);**\n",
        "\n",
        "\n",
        "*   3 bits ( opcode ) = 001\n",
        "*   3 bits ( registrador fonte ) = 000\n",
        "*   3 bits ( registrador destino ) = 010\n",
        "*   7 bits ( imediato ) = 0000101\n",
        "\n",
        "\n",
        "**add rs, rt, rd;**\n",
        "\n",
        "\n",
        "*   3 bits ( opcode ) = 000\n",
        "*   3 bits ( registrador origem 1 ) = 001\n",
        "*   3 bits ( registrador origem 2 ) = 010\n",
        "*   3 bits ( registrador destino ) = 011\n",
        "*   4 bits ( func ) = 0000\n",
        "\n",
        "**sub rs, rt, rd;**\n",
        "\n",
        "\n",
        "*   3 bits ( opcode ) = 000\n",
        "*   3 bits ( registrador origem 1 ) = 010\n",
        "*   3 bits ( registrador origem 2 ) = 001\n",
        "*   3 bits ( registrador destino ) = 100\n",
        "*   4 bits ( func ) = 0001\n",
        "\n",
        "\n",
        "**sw rs, Offset(rt);**\n",
        "\n",
        "\n",
        "*   3 bits ( opcode ) = 010\n",
        "*   3 bits ( registrador fonte ) = 000\n",
        "*   3 bits ( registrador origem ) = 011\n",
        "*   7 bits ( imediato ) = 0000000\n",
        "\n",
        "**jmp 12;**\n",
        "\n",
        "\n",
        "*   3 bits ( opcode ) = 100\n",
        "*   13 bits ( destino ) = 0000000001100\n",
        "\n",
        "\n",
        "**beq rs, rt, Offset();**\n",
        "\n",
        "\n",
        "*   3 bits ( opcode ) = 011\n",
        "*   3 bits ( registrador 1 ) = 001\n",
        "*   3 bits ( registrador 2 ) = 010\n",
        "*   7 bits ( deslocamento ) = 0000010"
      ],
      "metadata": {
        "id": "2GfJHBQ5vIXP"
      }
    },
    {
      "cell_type": "code",
      "source": [
        "%%file instructions_test.txt\n",
        "00100000 10000011\n",
        "00100001 00000101\n",
        "10000000 00000111\n",
        "00000101 00110000\n",
        "00001000 11000001\n",
        "01000001 10000000\n",
        "01000010 00000000\n",
        "00000101 00110100\n",
        "01000001 10000000\n",
        "10000000 00000011"
      ],
      "metadata": {
        "id": "hz5bmdNbyIW2",
        "colab": {
          "base_uri": "https://localhost:8080/"
        },
        "outputId": "19566f8b-731a-47b8-a3e3-5f8323611d7e"
      },
      "execution_count": null,
      "outputs": [
        {
          "output_type": "stream",
          "name": "stdout",
          "text": [
            "Writing instructions_test.txt\n"
          ]
        }
      ]
    },
    {
      "cell_type": "code",
      "source": [
        "%%file instructions_test_beq.txt\n",
        "00100000 10000011\n",
        "00100001 00000011\n",
        "01100101 00000011\n",
        "00100000 10000101\n",
        "00100001 00000101\n",
        "01000000 10000000\n",
        "01000001 00000001"
      ],
      "metadata": {
        "id": "pU2IcPOUhRwP",
        "colab": {
          "base_uri": "https://localhost:8080/"
        },
        "outputId": "66575f74-87ac-4313-c959-006fa9ca11d7"
      },
      "execution_count": null,
      "outputs": [
        {
          "output_type": "stream",
          "name": "stdout",
          "text": [
            "Writing instructions_test_beq.txt\n"
          ]
        }
      ]
    },
    {
      "cell_type": "code",
      "source": [
        "%%file instructions_test_.txt\n",
        "00100000 10000010\n",
        "00100001 00000011\n",
        "00000101 00110001\n",
        "01000001 10000000"
      ],
      "metadata": {
        "colab": {
          "base_uri": "https://localhost:8080/"
        },
        "id": "lsGNhzyAVlqs",
        "outputId": "d7e744d0-0bd6-4431-afb9-94284755f131"
      },
      "execution_count": null,
      "outputs": [
        {
          "output_type": "stream",
          "name": "stdout",
          "text": [
            "Overwriting instructions_test_.txt\n"
          ]
        }
      ]
    },
    {
      "cell_type": "markdown",
      "source": [
        "##**Módulos**"
      ],
      "metadata": {
        "id": "HSEsdtqMi72u"
      }
    },
    {
      "cell_type": "markdown",
      "source": [
        "###**Módulo PC**"
      ],
      "metadata": {
        "id": "-0iAGdo1cjwE"
      }
    },
    {
      "cell_type": "code",
      "source": [
        "%%file pc.sv\n",
        "// Contador de programa (PC)\n",
        "module pc (clk, comandos, instruction, zero, address);\n",
        "    // Declaracao de portas\n",
        "    input clk, zero;\n",
        "    input [9:0] comandos;\n",
        "    input [15:0] instruction;\n",
        "    output reg [15:0] address;\n",
        "\n",
        "    // Variaveis intermediarias\n",
        "    wire [15:0] extensao = { 9'd0, instruction[6:0] };\n",
        "    wire [15:0] shift = extensao << 1;\n",
        "    wire muxBranch = comandos[3]; // Branch\n",
        "    wire muxJump = comandos[0]; // Jump\n",
        "\n",
        "    // Iniciando endereco\n",
        "    initial begin\n",
        "        address = -16'd2;\n",
        "    end\n",
        "\n",
        "    // Funcionamento do contador\n",
        "    always @( posedge clk ) begin\n",
        "            address = address + 16'd2; // soma 2 para ir para a proxima instrução   // não pode ser não bloqueante ( paralelo )\n",
        "        // Condicao do Jump\n",
        "        if ( muxJump == 1'b1 ) begin\n",
        "            address = {address[15:14], (instruction[12:0] << 1)};   // não pode ser não bloqueante ( paralelo )\n",
        "        end\n",
        "        // Condicao do Branch\n",
        "        if (( muxBranch == 1'b1 ) & ( zero == 1'b1 ) & ( muxJump == 1'b0 )) begin   // não pode ser não bloqueante ( paralelo )\n",
        "            address = address + shift;\n",
        "        end\n",
        "    end\n",
        "\n",
        "endmodule"
      ],
      "metadata": {
        "id": "1Aj5qXRZ6Dex",
        "colab": {
          "base_uri": "https://localhost:8080/"
        },
        "outputId": "c4a66346-2b23-4fef-9118-236991578844"
      },
      "execution_count": null,
      "outputs": [
        {
          "output_type": "stream",
          "name": "stdout",
          "text": [
            "Writing pc.sv\n"
          ]
        }
      ]
    },
    {
      "cell_type": "markdown",
      "source": [
        "###**Módulo Memória de Instruções**"
      ],
      "metadata": {
        "id": "jmFkppL2csXp"
      }
    },
    {
      "cell_type": "code",
      "source": [
        "%%file instructions_memory.sv\n",
        "`define NULL 0\n",
        "\n",
        "// Memória de instrucoes\n",
        "module instructions_memory ( clk, pc, instruction );\n",
        "    // Declaracao de portas\n",
        "    input clk;\n",
        "    input [15:0] pc;\n",
        "    output [15:0] instruction;\n",
        "\n",
        "    integer f, r; // arquivo\n",
        "    reg [7:0] data = 8'd0;\n",
        "    integer counterMemory = 16'd0;\n",
        "\n",
        "    // Criando uma memoria de instrucoes com 100 enderecos de 8 bits\n",
        "    reg [7:0] memoriaInstrucoes [99:0];\n",
        "\n",
        "    initial begin\n",
        "        // Abrindo arquivo\n",
        "        f = $fopen(\"/content/instructions_test_.txt\",\"r\");\n",
        "        // Se arquivo nao contem nenhuma informacao\n",
        "        if ( f == `NULL ) begin\n",
        "            $display(\"Arquivo sem instrucoes\");\n",
        "            $finish;\n",
        "        end\n",
        "\n",
        "        while (! $feof( f )) begin\n",
        "            r = $fscanf( f,\"%8b\\n\", data);\n",
        "            memoriaInstrucoes[counterMemory] = data;\n",
        "            counterMemory = counterMemory + 16'd1;\n",
        "        end\n",
        "\n",
        "        // Fechando arquivo\n",
        "        $fclose( f );\n",
        "    end\n",
        "\n",
        "// Atribuindo o valor da instrucao\n",
        "assign instruction = { memoriaInstrucoes[ pc + 16'd0 ],\n",
        "                       memoriaInstrucoes[ pc + 16'd1 ]};\n",
        "\n",
        "endmodule"
      ],
      "metadata": {
        "id": "FZB23GAjIp5r",
        "colab": {
          "base_uri": "https://localhost:8080/"
        },
        "outputId": "dc64d135-e709-4750-b699-c512d34a94b9"
      },
      "execution_count": null,
      "outputs": [
        {
          "output_type": "stream",
          "name": "stdout",
          "text": [
            "Writing instructions_memory.sv\n"
          ]
        }
      ]
    },
    {
      "cell_type": "markdown",
      "source": [
        "**Dados**: Cada linha do banco de registradores contém um dado.\n",
        "\n",
        "```\n",
        "  endereço do registrador\n",
        "       | 3 bits  |\n",
        "        --------------------------------------\n",
        "dados  |    3    |    5    |  . . .  |        |  (16 bits)\n",
        "        --------------------------------------\n",
        "                     16 endereços\n",
        "```"
      ],
      "metadata": {
        "id": "M9KZPxMIIGWi"
      }
    },
    {
      "cell_type": "markdown",
      "source": [
        "###**Módulo Banco de Registradores**"
      ],
      "metadata": {
        "id": "ZJXoLsCzdHfc"
      }
    },
    {
      "cell_type": "code",
      "source": [
        "%%file register_bank.sv\n",
        "// Banco de registradores\n",
        "module register_bank ( clk, comandos, instruction, data_in, out1, out2, out3, memory );\n",
        "    // Declaracao de portas\n",
        "    input clk;\n",
        "    input [9:0] comandos;\n",
        "    input [15:0] instruction;\n",
        "    input [15:0] data_in;\n",
        "    output [15:0] out1, out2, out3;\n",
        "    // 5 enderecos do banco de registradores\n",
        "    output reg [127:0] memory;\n",
        "\n",
        "    // Variaveis intermediarias\n",
        "    wire RegDst = comandos[9];\n",
        "    wire ALUscr = comandos[8];\n",
        "    wire RegWrite = comandos[6];\n",
        "\n",
        "    wire [2:0] addr_regd, addr_reg1, addr_reg2;\n",
        "\n",
        "    assign addr_reg1 = instruction[12:10];\n",
        "    assign addr_reg2 = instruction[9:7];\n",
        "    assign addr_regd = ( RegDst == 1'b0 ) ? instruction[9:7] : instruction[6:4];\n",
        "\n",
        "    wire [15:0] extensao = {9'd0, instruction[6:0]};\n",
        "\n",
        "    // Criando um banco de registradores com 8 enderecos de 16 bits\n",
        "    reg [15:0] registerBank [7:0]; // 8 pq so tem 3 bits para representar os endereços\n",
        "\n",
        "    // Inicializando o banco de registradores com valores iniciais\n",
        "    integer i;\n",
        "    initial begin\n",
        "        for (i = 0; i < 8; i = i + 1) begin\n",
        "        registerBank[i] = 16'd0;\n",
        "        end\n",
        "    end\n",
        "\n",
        "    // Descrevendo o comportamento de escrita no banco de registradores\n",
        "    always @(posedge clk, data_in ) begin\n",
        "        if ( RegWrite == 1'b1 ) begin\n",
        "        registerBank[addr_regd] <= data_in;   // causa problema\n",
        "        end\n",
        "    end\n",
        "\n",
        "    assign out1 = registerBank[addr_reg1];\n",
        "    assign out2 = (ALUscr == 1'b1) ? extensao : registerBank[addr_reg2];\n",
        "    assign out3 = registerBank[addr_reg2];\n",
        "\n",
        "    always @( posedge clk, data_in ) begin\n",
        "        memory = {registerBank[0], registerBank[1], registerBank[2], registerBank[3], registerBank[4]};\n",
        "    end\n",
        "\n",
        "endmodule"
      ],
      "metadata": {
        "id": "VFNqBjC8ICE_",
        "colab": {
          "base_uri": "https://localhost:8080/"
        },
        "outputId": "4061fdfb-908d-4f4a-b407-ce14a8456e0e"
      },
      "execution_count": null,
      "outputs": [
        {
          "output_type": "stream",
          "name": "stdout",
          "text": [
            "Overwriting register_bank.sv\n"
          ]
        }
      ]
    },
    {
      "cell_type": "markdown",
      "source": [
        "###**Módulo Controle**\n",
        "\n",
        "\n",
        "<p align=\"center\">\n",
        "  <img src=\"https://raw.githubusercontent.com/Gustavo-A-Mendes/sistemas-digitais-embarcados/refs/heads/main/projeto-unidade-02/img/Sinais%20de%20Controle.png\" alt=\"Diagrama_Instrução_tipo_R.png\">\n",
        "</p>\n",
        "\n",
        "| Tipo | Instrução | OPcode |\n",
        "|:----:|:---------:|:------:|\n",
        "|   R  |     -     |   000  |\n",
        "|   I  |     lw    |   001  |\n",
        "|   I  |     sw    |   010  |\n",
        "|   I  |    beq    |   011  |\n",
        "|   J  |     -     |   100  |"
      ],
      "metadata": {
        "id": "XIfcS713dQPr"
      }
    },
    {
      "cell_type": "code",
      "source": [
        "%%file control.sv\n",
        "// Controle\n",
        "module control ( opcode, out );\n",
        "    input [2:0] opcode;\n",
        "    // RegDst, ALUscr, MemtoReg, RegWrite, MemRead, MemWrite, Branch, ALUOp, Jump\n",
        "    output reg [9:0] out;\n",
        "\n",
        "    always @( opcode ) begin\n",
        "        casex ({opcode})\n",
        "        3'b000 : out = 10'b1001000000; // Tipo R\n",
        "        3'b001 : out = 10'b0111100110; // LW (Tipo I)\n",
        "        3'b010 : out = 10'b0100010110; // SW (Tipo I)\n",
        "        3'b011 : out = 10'bx0x0001010; // BEQ (Tipo I)\n",
        "        3'b100 : out = 10'b0000000001; // (Tipo J)\n",
        "        default   : out = 10'bxxxxxxxxxx;\n",
        "        endcase\n",
        "    end\n",
        "\n",
        "endmodule"
      ],
      "metadata": {
        "id": "M2t9M6y6Oiom",
        "colab": {
          "base_uri": "https://localhost:8080/"
        },
        "outputId": "fde7a15f-d1f9-4c85-bfa9-479ad47e7a90"
      },
      "execution_count": null,
      "outputs": [
        {
          "output_type": "stream",
          "name": "stdout",
          "text": [
            "Writing control.sv\n"
          ]
        }
      ]
    },
    {
      "cell_type": "markdown",
      "source": [
        "###**Módulo Controle da ULA**\n",
        "\n",
        "<p align=\"center\">\n",
        "  <img src=\"https://raw.githubusercontent.com/Gustavo-A-Mendes/sistemas-digitais-embarcados/refs/heads/main/projeto-unidade-02/img/Controle%20da%20ULA.png\" alt=\"Controle_ULA.png\">\n",
        "</p>"
      ],
      "metadata": {
        "id": "hnG0LBGtdV9Q"
      }
    },
    {
      "cell_type": "code",
      "source": [
        "%%file control_ULA.sv\n",
        "// Controle\n",
        "module control_ULA ( ULAOp, funct, out );\n",
        "    input [1:0] ULAOp;\n",
        "    input [3:0] funct;\n",
        "    output reg [3:0] out;\n",
        "\n",
        "    always @( ULAOp, funct ) begin\n",
        "        casex ({ULAOp,funct})\n",
        "        6'b11xxxx : out = 4'b0000; // LW, SW (Tipo I)\n",
        "        6'b01xxxx : out = 4'b0001; // BEQ (Tipo I)\n",
        "        6'b000000 : out = 4'b0000; // soma (Tipe R) (funt = 0000)\n",
        "        6'b000001 : out = 4'b0001; // subtracao (Tipe R) (funt = 0001)\n",
        "        6'b000010 : out = 4'b0010; // e\n",
        "        6'b000011 : out = 4'b0011; // ou\n",
        "        6'b000100 : out = 4'b0100; // XOR\n",
        "        6'b000101 : out = 4'b0101; // multiplicação (Tipe R) (funt = 0101)\n",
        "        6'b000110 : out = 4'b0110; // divisão (Tipe R) (funt = 0110)\n",
        "        6'b000111 : out = 4'b0111; // shift << (Tipe R) (funt = 0111)\n",
        "        6'b001000 : out = 4'b1000; // shift >> (Tipe R) (funt = 1000)\n",
        "        6'bxxxxxx : out = 4'bxxxx; // Jump (Tipo J)\n",
        "        endcase\n",
        "    end\n",
        "endmodule"
      ],
      "metadata": {
        "id": "UE2cerAQZAMc",
        "colab": {
          "base_uri": "https://localhost:8080/"
        },
        "outputId": "6433616a-022f-43a5-da13-a66bef5aae55"
      },
      "execution_count": null,
      "outputs": [
        {
          "output_type": "stream",
          "name": "stdout",
          "text": [
            "Writing control_ULA.sv\n"
          ]
        }
      ]
    },
    {
      "cell_type": "markdown",
      "source": [
        "###**Módulo ULA**"
      ],
      "metadata": {
        "id": "NM81rwB1daDP"
      }
    },
    {
      "cell_type": "code",
      "source": [
        "%%file ula.sv\n",
        "// Unidade logica aritmetica (ULA)\n",
        "module ula ( control_ula, in1, in2, out, zero );\n",
        "    // Declaracao de portas\n",
        "    input [3:0] control_ula;\n",
        "    input [15:0] in1, in2;\n",
        "    output reg [15:0] out;\n",
        "    output reg zero;\n",
        "\n",
        "    // Descrevendo o comportamento da ULA\n",
        "    always @( in1, in2, control_ula ) begin\n",
        "        case ({control_ula})\n",
        "            4'b0000 : out = in1 + in2;\n",
        "            4'b0001 : out = in1 - in2;\n",
        "            4'b0010 : out = in1 & in2;\n",
        "            4'b0011 : out = in1 | in2;\n",
        "            4'b0100 : out = in1 ^ in2;\n",
        "            4'b0101 : out = in1 * in2;\n",
        "            4'b0110 : out = in1 / in2;\n",
        "            4'b0111 : out = in1 << in2;\n",
        "            4'b1000 : out = in1 >> in2;\n",
        "            default : out = 16'd0;\n",
        "        endcase\n",
        "        if ( out == 16'd0 ) begin\n",
        "            zero = 1'b1;\n",
        "        end\n",
        "        else begin\n",
        "            zero = 1'b0;\n",
        "        end\n",
        "    end\n",
        "\n",
        "endmodule"
      ],
      "metadata": {
        "id": "roiSCS5COXbx",
        "colab": {
          "base_uri": "https://localhost:8080/"
        },
        "outputId": "358ee975-b51e-4ebf-de71-29f7074fc4ab"
      },
      "execution_count": null,
      "outputs": [
        {
          "output_type": "stream",
          "name": "stdout",
          "text": [
            "Writing ula.sv\n"
          ]
        }
      ]
    },
    {
      "cell_type": "markdown",
      "source": [
        "###**Módulo Memória de Dados**"
      ],
      "metadata": {
        "id": "1iXkfpI6dcsD"
      }
    },
    {
      "cell_type": "code",
      "source": [
        "%%file data_memory.sv\n",
        "// Memoria de dados\n",
        "module data_memory ( clk, addr, write_data, MemWrite, MemRead, MemtoReg, read_data, memory );\n",
        "    input clk;\n",
        "    input MemWrite, MemRead, MemtoReg;\n",
        "    input [15:0] addr; // endereco memoria\n",
        "    input [15:0] write_data; // dado escrito\n",
        "    output reg [15:0] read_data; // dado lido\n",
        "    output reg [127:0] memory;\n",
        "\n",
        "    // Construindo memoria com 100 palavras de 16 bits\n",
        "    reg [15:0] ram [0:99];  //limite maximo é de 135 espaços\n",
        "\n",
        "    // Inicializando a memoria com valores iniciais\n",
        "    integer i;\n",
        "    initial begin\n",
        "        for (i = 16'd0; i < 16'd256; i = i + 16'd1 ) begin\n",
        "        ram[i] = i;\n",
        "        end\n",
        "    end\n",
        "\n",
        "    always @( posedge clk, addr, MemWrite,MemRead,MemtoReg ) begin\n",
        "        casex ({MemWrite,MemRead,MemtoReg})\n",
        "        3'b000 : read_data <= addr;\n",
        "        3'b011 : read_data <= ram[ addr ];\n",
        "        3'b10x : ram[ addr ] <= write_data;\n",
        "        endcase\n",
        "    end\n",
        "\n",
        "    always @( posedge clk, addr, MemWrite,MemRead,MemtoReg) begin\n",
        "        memory = {ram[0], ram[1], ram[2], ram[3]};\n",
        "    end\n",
        "\n",
        "endmodule"
      ],
      "metadata": {
        "id": "esaO9Xv9PsxZ",
        "colab": {
          "base_uri": "https://localhost:8080/"
        },
        "outputId": "efca6f8d-c5d9-496f-9e62-64eb8d36dc61"
      },
      "execution_count": null,
      "outputs": [
        {
          "output_type": "stream",
          "name": "stdout",
          "text": [
            "Writing data_memory.sv\n"
          ]
        }
      ]
    },
    {
      "cell_type": "markdown",
      "source": [
        "##Testbench"
      ],
      "metadata": {
        "id": "efHcleUxdina"
      }
    },
    {
      "cell_type": "code",
      "source": [
        "%%file testbench.v\n",
        "\n",
        "`include \"pc.sv\"\n",
        "`include \"instructions_memory.sv\"\n",
        "`include \"control.sv\"\n",
        "`include \"control_ULA.sv\"\n",
        "`include \"register_bank.sv\"\n",
        "`include \"ula.sv\"\n",
        "`include \"data_memory.sv\"\n",
        "\n",
        "module testbench();\n",
        "    // Test period\n",
        "    parameter period = 2;\n",
        "\n",
        "    reg clk;\n",
        "    wire [9:0] commands;\n",
        "    wire [15:0] instruction, address;\n",
        "    wire zero;\n",
        "\n",
        "    // Program counter\n",
        "    pc pc(clk, commands, instruction, zero, address);\n",
        "\n",
        "    // Instruction memory\n",
        "    instructions_memory instruction_memory( clk, address, instruction );\n",
        "\n",
        "    wire [2:0] opcode;\n",
        "    assign opcode = instruction[15:13];\n",
        "\n",
        "    // Control\n",
        "    control c( opcode, commands);\n",
        "\n",
        "    wire [15:0] data_ula, out1, out2, out3, r_data;\n",
        "    wire [127:0] registradores; // 3 enderecos do banco de registradores\n",
        "\n",
        "    // Register bank\n",
        "    register_bank register_bank( clk, commands, instruction, data_ula, out1, out2, out3, registradores );\n",
        "\n",
        "    wire [3:0] ula_control;\n",
        "\n",
        "    wire [1:0] ULAOp;\n",
        "    assign ULAOp = commands[2:1];\n",
        "\n",
        "    wire [3:0] funct;\n",
        "    assign funct = instruction[3:0];\n",
        "\n",
        "    // ULA control\n",
        "    control_ULA control_ULA( ULAOp, funct, ula_control );\n",
        "\n",
        "    wire [15:0] result;\n",
        "\n",
        "    // ULA\n",
        "    ula ula( ula_control, out1, out2, result, zero );\n",
        "\n",
        "    wire MemWrite, MemRead, MemtoReg;\n",
        "    assign MemWrite = commands[4];\n",
        "    assign MemRead = commands[5];\n",
        "    assign MemtoReg = commands[7];\n",
        "\n",
        "    wire [127:0] memoria;\n",
        "\n",
        "    // Memory\n",
        "    data_memory data_memory( clk, result, out3, MemWrite, MemRead, MemtoReg, data_ula, memoria );\n",
        "\n",
        "    initial begin\n",
        "        $dumpfile(\"cpu.vcd\");\n",
        "        $dumpvars;\n",
        "        clk <= 0;\n",
        "        $display(\"Registrador         |   Memoria\");\n",
        "        $display(\" r0  r1  r2  r3  r4 | m0 m1 m2 m3\");\n",
        "        $display(\"-------------------------\");\n",
        "        $monitor(\"  %1d   %1d   %1d   %1d   %1d | %1d  %1d  %1d  %1d\", registradores[79:64], registradores[63:48], registradores[47:32], registradores[31:16], registradores[15:0], memoria[63:48], memoria[47:32], memoria[31:16], memoria[15:0]);\n",
        "        #period;\n",
        "\n",
        "        #period;\n",
        "\n",
        "        #period;\n",
        "\n",
        "        #period;\n",
        "\n",
        "        #period;\n",
        "\n",
        "        #period;\n",
        "\n",
        "        #period;\n",
        "\n",
        "        #period;\n",
        "\n",
        "        #period;\n",
        "\n",
        "        #period;\n",
        "\n",
        "        #period;\n",
        "\n",
        "        #period;\n",
        "\n",
        "        #period;\n",
        "\n",
        "        #period;\n",
        "\n",
        "        #period;\n",
        "\n",
        "        #period;\n",
        "\n",
        "        #period;\n",
        "\n",
        "        #period;\n",
        "\n",
        "        #period;\n",
        "\n",
        "        #period;\n",
        "\n",
        "        #period;\n",
        "\n",
        "        #period;\n",
        "\n",
        "        #period;\n",
        "\n",
        "        #period;\n",
        "\n",
        "        #period;\n",
        "        $finish;\n",
        "    end\n",
        "\n",
        "    always begin\n",
        "        clk = ~clk;\n",
        "        #period;\n",
        "    end\n",
        "endmodule"
      ],
      "metadata": {
        "id": "MpQ6AHdeuh6x",
        "colab": {
          "base_uri": "https://localhost:8080/"
        },
        "outputId": "75d0401b-537d-4a23-8d4e-dde2af25f0a4"
      },
      "execution_count": null,
      "outputs": [
        {
          "output_type": "stream",
          "name": "stdout",
          "text": [
            "Overwriting testbench.v\n"
          ]
        }
      ]
    },
    {
      "cell_type": "markdown",
      "source": [
        "##Execução"
      ],
      "metadata": {
        "id": "nEwokPHudwjk"
      }
    },
    {
      "cell_type": "code",
      "source": [
        "%%bash\n",
        "iverilog testbench.v -o cpu\n",
        "vvp cpu"
      ],
      "metadata": {
        "id": "MGRcWS0Jw0EL",
        "colab": {
          "base_uri": "https://localhost:8080/"
        },
        "outputId": "b7f2d455-d4cd-47be-9336-307968fc4b07"
      },
      "execution_count": null,
      "outputs": [
        {
          "output_type": "stream",
          "name": "stdout",
          "text": [
            "VCD info: dumpfile cpu.vcd opened for output.\n",
            "Registrador         |   Memoria\n",
            " r0  r1  r2  r3  r4 | m0 m1 m2 m3\n",
            "-------------------------\n",
            "  x   x   x   x   x | x  x  x  x\n",
            "  0   0   0   0   0 | 0  1  2  3\n",
            "  0   2   0   0   0 | 0  1  2  3\n",
            "  0   2   3   0   0 | 0  1  2  3\n",
            "  0   2   3   65535   0 | 0  1  2  3\n",
            "  0   2   3   65535   0 | 65535  1  2  3\n"
          ]
        }
      ]
    },
    {
      "cell_type": "markdown",
      "source": [
        "##Forma de Onda"
      ],
      "metadata": {
        "id": "24ftth3Tdy3S"
      }
    },
    {
      "cell_type": "code",
      "source": [
        "%%waveform cpu.vcd\n",
        "\n",
        "sign_list = ['testbench.clk', 'testbench.instruction', 'testbench.out1', 'testbench.out2', 'testbench.out3', 'testbench.result', 'testbench.data_ula']\n",
        "time_begin = 0\n",
        "time_end = 25\n",
        "base = 'dec' # bin, dec, dec2, hex, octal"
      ],
      "metadata": {
        "id": "m3gBzLI9ADFO",
        "colab": {
          "base_uri": "https://localhost:8080/",
          "height": 417
        },
        "outputId": "5aa534a8-6d2a-4aab-e81c-911dc428f99d"
      },
      "execution_count": null,
      "outputs": [
        {
          "output_type": "stream",
          "name": "stdout",
          "text": [
            "Installing. Please wait... done!\n"
          ]
        },
        {
          "output_type": "display_data",
          "data": {
            "text/plain": [
              "<Figure size 2600x800 with 1 Axes>"
            ],
            "image/png": "[encoded data removed]"
          },
          "metadata": {}
        }
      ]
    }
  ]
}